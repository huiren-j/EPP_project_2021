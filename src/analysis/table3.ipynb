{
 "cells": [
  {
   "cell_type": "code",
   "execution_count": 14,
   "metadata": {},
   "outputs": [],
   "source": [
    "import pandas as pd\n",
    "import numpy as np\n",
    "import econtools.metrics as mt\n",
    "import statsmodels.api as sm\n",
    "from statsmodels.stats.outliers_influence import variance_inflation_factor\n",
    "from itertools import *"
   ]
  },
  {
   "cell_type": "code",
   "execution_count": 17,
   "metadata": {
    "scrolled": true
   },
   "outputs": [],
   "source": [
    "df = pd.read_stata(\"data/output_data/All_Data_Base_EL.dta\")"
   ]
  },
  {
   "cell_type": "code",
   "execution_count": 60,
   "metadata": {},
   "outputs": [],
   "source": [
    "def treat_dummy(df):\n",
    "    \n",
    "    df = pd.get_dummies(df,columns=[\"treat\"])\n",
    "    df[\"treat\"] = df[\"treat_Treatment\"]\n",
    "    df = df.drop(columns=[\"treat_Control\"])\n",
    "    df = df.drop(columns=[\"treat_Treatment\"])\n",
    "    \n",
    "    return df\n",
    "\n",
    "def table3_var(df):\n",
    "    def control(ctrl):\n",
    "        dummies = []\n",
    "        nonlocal df\n",
    "        ctrl_val  = df[ctrl].value_counts().keys().sort_values()\n",
    "        for i in ctrl_val:\n",
    "            dummies.append(ctrl+\"_\"+str(i))\n",
    "        return dummies\n",
    "    \n",
    "    ctrl_col = [\"std\",\"perf_gap_used\",\"C1_strat\"]\n",
    "    ctrl_list = list(map(control,ctrl_col))\n",
    "    ctrl_list = list(chain.from_iterable(ctrl_list))\n",
    "    df = pd.get_dummies(df,columns = ctrl_col)\n",
    "    \n",
    "    return df\n",
    "\n",
    "def table3_reg(df, y):\n",
    "    X = [\"treat\", \"treat_ave\", \"ave\", \"ave_educ_ave\", \"educ_ave\"]\n",
    "    \n",
    "    d = {}\n",
    "    for i in y:\n",
    "        result = mt.reg(df, i, X , fe_name = \"school_code\", cluster=\"hhid\").summary\n",
    "        d[\"table_{0}\".format(i)] = result\n",
    "    \n",
    "    return d"
   ]
  },
  {
   "cell_type": "code",
   "execution_count": 50,
   "metadata": {
    "scrolled": true
   },
   "outputs": [
    {
     "name": "stderr",
     "output_type": "stream",
     "text": [
      "C:\\Users\\thxkn\\anaconda3\\lib\\site-packages\\pandas\\io\\stata.py:1409: UnicodeWarning: \n",
      "One or more strings in the dta file could not be decoded using utf-8, and\n",
      "so the fallback encoding of latin-1 is being used.  This can happen when a file\n",
      "has been incorrectly encoded by Stata or some other software. You should verify\n",
      "the string values returned are correct.\n",
      "  warnings.warn(msg, UnicodeWarning)\n"
     ]
    }
   ],
   "source": [
    "#table3\n",
    "df = pd.read_stata(\"data/output_data/All_Data_Base_EL.dta\")\n",
    "\n",
    "df = treat_dummy(df)\n",
    "\n",
    "df[\"treat_ave_eudc_ave\"] = df[\"treat\"]*df[\"ave\"]*df[\"educ_ave\"]\n",
    "df[\"ave_educ_ave\"] = df[\"ave\"]*df[\"educ_ave\"]\n",
    "df[\"treat_educ_ave\"] = df[\"treat\"]*df[\"educ_ave\"]\n",
    "\n",
    "df = table3_var(df)\n",
    "\n",
    "d = table3_reg(df, [\"retention\", \"EL_ln_tot_exp_notext\", \"attendance_rate\"] )\n",
    "d[\"table_retention\"]"
   ]
  },
  {
   "cell_type": "code",
   "execution_count": null,
   "metadata": {},
   "outputs": [],
   "source": [
    "import re\n",
    "\n",
    "_surrogates = re.compile(r\"[\\uDC80-\\uDCFF]\")\n",
    "\n",
    "def detect_decoding_errors_line(l, _s=_surrogates.finditer):\n",
    "    \"\"\"Return decoding errors in a line of text\n",
    "\n",
    "    Works with text lines decoded with the surrogateescape\n",
    "    error handler.\n",
    "\n",
    "    Returns a list of (pos, byte) tuples\n",
    "\n",
    "    \"\"\"\n",
    "    # DC80 - DCFF encode bad bytes 80-FF\n",
    "    return [(m.start(), bytes([ord(m.group()) - 0xDC00]))\n",
    "            for m in _s(l)]\n",
    "\n",
    "with open(\"data/output_data/All_Data_Base_EL.dta\", encoding=\"utf8\", errors=\"surrogateescape\") as f:\n",
    "    for i, line in enumerate(f, 1):\n",
    "        errors = detect_decoding_errors_line(line)\n",
    "        if errors:\n",
    "            print(f\"Found errors on line {i}:\")\n",
    "            for (col, b) in errors:\n",
    "                print(f\" {col + 1:2d}: {b[0]:02x}\")"
   ]
  },
  {
   "cell_type": "code",
   "execution_count": 9,
   "metadata": {},
   "outputs": [
    {
     "ename": "TypeError",
     "evalue": "can only concatenate list (not \"str\") to list",
     "output_type": "error",
     "traceback": [
      "\u001b[1;31m---------------------------------------------------------------------------\u001b[0m",
      "\u001b[1;31mTypeError\u001b[0m                                 Traceback (most recent call last)",
      "\u001b[1;32m<ipython-input-9-c813d93f8cec>\u001b[0m in \u001b[0;36m<module>\u001b[1;34m\u001b[0m\n\u001b[0;32m     23\u001b[0m \u001b[1;33m\u001b[0m\u001b[0m\n\u001b[0;32m     24\u001b[0m \u001b[1;32mfor\u001b[0m \u001b[0mendo\u001b[0m \u001b[1;32min\u001b[0m \u001b[0my\u001b[0m\u001b[1;33m:\u001b[0m\u001b[1;33m\u001b[0m\u001b[1;33m\u001b[0m\u001b[0m\n\u001b[1;32m---> 25\u001b[1;33m     \u001b[0mcontrols\u001b[0m \u001b[1;33m=\u001b[0m \u001b[0mcontrols\u001b[0m \u001b[1;33m+\u001b[0m \u001b[1;33m(\u001b[0m\u001b[0mstr\u001b[0m\u001b[1;33m(\u001b[0m\u001b[0mendo\u001b[0m\u001b[1;33m)\u001b[0m \u001b[1;33m+\u001b[0m \u001b[1;34m\"_control\"\u001b[0m\u001b[1;33m)\u001b[0m\u001b[1;33m\u001b[0m\u001b[1;33m\u001b[0m\u001b[0m\n\u001b[0m\u001b[0;32m     26\u001b[0m     \u001b[0mX\u001b[0m \u001b[1;33m=\u001b[0m \u001b[0mX\u001b[0m \u001b[1;33m+\u001b[0m \u001b[0mcontrols\u001b[0m\u001b[1;33m\u001b[0m\u001b[1;33m\u001b[0m\u001b[0m\n\u001b[0;32m     27\u001b[0m     \u001b[0mresult\u001b[0m \u001b[1;33m=\u001b[0m \u001b[0mmt\u001b[0m\u001b[1;33m.\u001b[0m\u001b[0mreg\u001b[0m\u001b[1;33m(\u001b[0m\u001b[0mdf\u001b[0m\u001b[1;33m,\u001b[0m \u001b[0mendo\u001b[0m \u001b[1;33m,\u001b[0m \u001b[0mX\u001b[0m \u001b[1;33m,\u001b[0m \u001b[0mfe_name\u001b[0m \u001b[1;33m=\u001b[0m \u001b[1;34m\"school_code\"\u001b[0m\u001b[1;33m,\u001b[0m \u001b[0mcluster\u001b[0m\u001b[1;33m=\u001b[0m\u001b[1;34m\"hhid\"\u001b[0m\u001b[1;33m)\u001b[0m\u001b[1;33m\u001b[0m\u001b[1;33m\u001b[0m\u001b[0m\n",
      "\u001b[1;31mTypeError\u001b[0m: can only concatenate list (not \"str\") to list"
     ]
    }
   ],
   "source": [
    "controls = [\"educ_ave_reg\", \"educ_ave_miss\", \"female_reg\", \"female_miss\", \"primary_resp_fem\"]\n",
    "controls = controls + dummies\n",
    "X = [\"treat\", \"treat_ave\", \"ave\", \"ave_educ_ave\", \"educ_ave\"]\n",
    "y =[\"retention\", \"EL_ln_tot_exp_notext\", \"attendance_rate\"]\n",
    "\n",
    "retention_control = []\n",
    "EL_ln_tot_exp_notext_control=[\"ln_tot_exp_notext_reg\", \"ln_tot_exp_notext_miss\"] \n",
    "attendance_rate_control = [\"attendance_sv\"]\n",
    "\n",
    "for endo in y:\n",
    "    #controls = controls + (str(endo) + \"_control\")\n",
    "    X = X + controls\n",
    "    result = mt.reg(df, endo , X , fe_name = \"school_code\", cluster=\"hhid\")\n",
    "    df_result = result.summary\n",
    "    df_result = df_result.drop(index=controls)"
   ]
  },
  {
   "cell_type": "code",
   "execution_count": 46,
   "metadata": {},
   "outputs": [
    {
     "data": {
      "text/html": [
       "<div>\n",
       "<style scoped>\n",
       "    .dataframe tbody tr th:only-of-type {\n",
       "        vertical-align: middle;\n",
       "    }\n",
       "\n",
       "    .dataframe tbody tr th {\n",
       "        vertical-align: top;\n",
       "    }\n",
       "\n",
       "    .dataframe thead th {\n",
       "        text-align: right;\n",
       "    }\n",
       "</style>\n",
       "<table border=\"1\" class=\"dataframe\">\n",
       "  <thead>\n",
       "    <tr style=\"text-align: right;\">\n",
       "      <th></th>\n",
       "      <th>coeff</th>\n",
       "      <th>se</th>\n",
       "      <th>t</th>\n",
       "      <th>p&gt;t</th>\n",
       "      <th>CI_low</th>\n",
       "      <th>CI_high</th>\n",
       "    </tr>\n",
       "  </thead>\n",
       "  <tbody>\n",
       "    <tr>\n",
       "      <th>treat</th>\n",
       "      <td>-5.253049</td>\n",
       "      <td>2.095217</td>\n",
       "      <td>-2.507162</td>\n",
       "      <td>0.012349</td>\n",
       "      <td>-9.365236</td>\n",
       "      <td>-1.140861</td>\n",
       "    </tr>\n",
       "    <tr>\n",
       "      <th>treat_ave</th>\n",
       "      <td>0.101240</td>\n",
       "      <td>0.036775</td>\n",
       "      <td>2.752944</td>\n",
       "      <td>0.006027</td>\n",
       "      <td>0.029063</td>\n",
       "      <td>0.173417</td>\n",
       "    </tr>\n",
       "    <tr>\n",
       "      <th>ave</th>\n",
       "      <td>0.017356</td>\n",
       "      <td>0.035749</td>\n",
       "      <td>0.485495</td>\n",
       "      <td>0.627445</td>\n",
       "      <td>-0.052807</td>\n",
       "      <td>0.087519</td>\n",
       "    </tr>\n",
       "    <tr>\n",
       "      <th>ave_educ_ave</th>\n",
       "      <td>-0.006574</td>\n",
       "      <td>0.004582</td>\n",
       "      <td>-1.434815</td>\n",
       "      <td>0.151694</td>\n",
       "      <td>-0.015566</td>\n",
       "      <td>0.002418</td>\n",
       "    </tr>\n",
       "    <tr>\n",
       "      <th>educ_ave</th>\n",
       "      <td>0.533659</td>\n",
       "      <td>0.278296</td>\n",
       "      <td>1.917592</td>\n",
       "      <td>0.055485</td>\n",
       "      <td>-0.012541</td>\n",
       "      <td>1.079858</td>\n",
       "    </tr>\n",
       "  </tbody>\n",
       "</table>\n",
       "</div>"
      ],
      "text/plain": [
       "                 coeff        se         t       p>t    CI_low   CI_high\n",
       "treat        -5.253049  2.095217 -2.507162  0.012349 -9.365236 -1.140861\n",
       "treat_ave     0.101240  0.036775  2.752944  0.006027  0.029063  0.173417\n",
       "ave           0.017356  0.035749  0.485495  0.627445 -0.052807  0.087519\n",
       "ave_educ_ave -0.006574  0.004582 -1.434815  0.151694 -0.015566  0.002418\n",
       "educ_ave      0.533659  0.278296  1.917592  0.055485 -0.012541  1.079858"
      ]
     },
     "execution_count": 46,
     "metadata": {},
     "output_type": "execute_result"
    }
   ],
   "source": [
    "#얘로 써야겠다. X + dummies 만 해도 singular matrix 뜸\n",
    "X = [\"treat\", \"treat_ave\", \"ave\", \"ave_educ_ave\", \"educ_ave\"]\n",
    "result = mt.reg(df,\"retention\", X , fe_name = \"school_code\", cluster=\"hhid\").summary\n",
    "result\n",
    "#df_result = df_result.drop(index=controls)"
   ]
  },
  {
   "cell_type": "code",
   "execution_count": 37,
   "metadata": {
    "scrolled": false
   },
   "outputs": [
    {
     "data": {
      "text/html": [
       "<div>\n",
       "<style scoped>\n",
       "    .dataframe tbody tr th:only-of-type {\n",
       "        vertical-align: middle;\n",
       "    }\n",
       "\n",
       "    .dataframe tbody tr th {\n",
       "        vertical-align: top;\n",
       "    }\n",
       "\n",
       "    .dataframe thead th {\n",
       "        text-align: right;\n",
       "    }\n",
       "</style>\n",
       "<table border=\"1\" class=\"dataframe\">\n",
       "  <thead>\n",
       "    <tr style=\"text-align: right;\">\n",
       "      <th></th>\n",
       "      <th>coeff</th>\n",
       "      <th>se</th>\n",
       "      <th>t</th>\n",
       "      <th>p&gt;t</th>\n",
       "      <th>CI_low</th>\n",
       "      <th>CI_high</th>\n",
       "    </tr>\n",
       "  </thead>\n",
       "  <tbody>\n",
       "    <tr>\n",
       "      <th>treat</th>\n",
       "      <td>-0.071183</td>\n",
       "      <td>2.649562</td>\n",
       "      <td>-0.026866</td>\n",
       "      <td>0.978571</td>\n",
       "      <td>-5.269818</td>\n",
       "      <td>5.127451</td>\n",
       "    </tr>\n",
       "    <tr>\n",
       "      <th>treat_ave</th>\n",
       "      <td>0.001315</td>\n",
       "      <td>0.049151</td>\n",
       "      <td>0.026750</td>\n",
       "      <td>0.978664</td>\n",
       "      <td>-0.095124</td>\n",
       "      <td>0.097753</td>\n",
       "    </tr>\n",
       "    <tr>\n",
       "      <th>ave</th>\n",
       "      <td>0.162971</td>\n",
       "      <td>0.051467</td>\n",
       "      <td>3.166519</td>\n",
       "      <td>0.001584</td>\n",
       "      <td>0.061989</td>\n",
       "      <td>0.263953</td>\n",
       "    </tr>\n",
       "    <tr>\n",
       "      <th>ave_educ_ave</th>\n",
       "      <td>-0.012094</td>\n",
       "      <td>0.007440</td>\n",
       "      <td>-1.625438</td>\n",
       "      <td>0.104349</td>\n",
       "      <td>-0.026692</td>\n",
       "      <td>0.002505</td>\n",
       "    </tr>\n",
       "    <tr>\n",
       "      <th>educ_ave</th>\n",
       "      <td>0.860158</td>\n",
       "      <td>0.434262</td>\n",
       "      <td>1.980735</td>\n",
       "      <td>0.047864</td>\n",
       "      <td>0.008104</td>\n",
       "      <td>1.712212</td>\n",
       "    </tr>\n",
       "  </tbody>\n",
       "</table>\n",
       "</div>"
      ],
      "text/plain": [
       "                 coeff        se         t       p>t    CI_low   CI_high\n",
       "treat        -0.071183  2.649562 -0.026866  0.978571 -5.269818  5.127451\n",
       "treat_ave     0.001315  0.049151  0.026750  0.978664 -0.095124  0.097753\n",
       "ave           0.162971  0.051467  3.166519  0.001584  0.061989  0.263953\n",
       "ave_educ_ave -0.012094  0.007440 -1.625438  0.104349 -0.026692  0.002505\n",
       "educ_ave      0.860158  0.434262  1.980735  0.047864  0.008104  1.712212"
      ]
     },
     "execution_count": 37,
     "metadata": {},
     "output_type": "execute_result"
    }
   ],
   "source": [
    "X = [\"treat\", \"treat_ave\", \"ave\", \"ave_educ_ave\", \"educ_ave\"]\n",
    "result = mt.reg(df,\"attendance_rate\", X , fe_name = \"school_code\", cluster=\"hhid\").summary\n",
    "result\n",
    "#df_result = df_result.drop(index=controls)"
   ]
  },
  {
   "cell_type": "code",
   "execution_count": 47,
   "metadata": {
    "scrolled": false
   },
   "outputs": [
    {
     "data": {
      "text/html": [
       "<div>\n",
       "<style scoped>\n",
       "    .dataframe tbody tr th:only-of-type {\n",
       "        vertical-align: middle;\n",
       "    }\n",
       "\n",
       "    .dataframe tbody tr th {\n",
       "        vertical-align: top;\n",
       "    }\n",
       "\n",
       "    .dataframe thead th {\n",
       "        text-align: right;\n",
       "    }\n",
       "</style>\n",
       "<table border=\"1\" class=\"dataframe\">\n",
       "  <thead>\n",
       "    <tr style=\"text-align: right;\">\n",
       "      <th></th>\n",
       "      <th>coeff</th>\n",
       "      <th>se</th>\n",
       "      <th>t</th>\n",
       "      <th>p&gt;t</th>\n",
       "      <th>CI_low</th>\n",
       "      <th>CI_high</th>\n",
       "    </tr>\n",
       "  </thead>\n",
       "  <tbody>\n",
       "    <tr>\n",
       "      <th>treat</th>\n",
       "      <td>0.105852</td>\n",
       "      <td>0.116125</td>\n",
       "      <td>0.911533</td>\n",
       "      <td>0.362265</td>\n",
       "      <td>-0.122064</td>\n",
       "      <td>0.333768</td>\n",
       "    </tr>\n",
       "    <tr>\n",
       "      <th>treat_ave</th>\n",
       "      <td>-0.002193</td>\n",
       "      <td>0.002226</td>\n",
       "      <td>-0.985245</td>\n",
       "      <td>0.324776</td>\n",
       "      <td>-0.006562</td>\n",
       "      <td>0.002176</td>\n",
       "    </tr>\n",
       "    <tr>\n",
       "      <th>ave</th>\n",
       "      <td>0.001139</td>\n",
       "      <td>0.002370</td>\n",
       "      <td>0.480601</td>\n",
       "      <td>0.630920</td>\n",
       "      <td>-0.003512</td>\n",
       "      <td>0.005790</td>\n",
       "    </tr>\n",
       "    <tr>\n",
       "      <th>ave_educ_ave</th>\n",
       "      <td>0.000749</td>\n",
       "      <td>0.000353</td>\n",
       "      <td>2.122238</td>\n",
       "      <td>0.034098</td>\n",
       "      <td>0.000056</td>\n",
       "      <td>0.001442</td>\n",
       "    </tr>\n",
       "    <tr>\n",
       "      <th>educ_ave</th>\n",
       "      <td>0.005712</td>\n",
       "      <td>0.018465</td>\n",
       "      <td>0.309336</td>\n",
       "      <td>0.757139</td>\n",
       "      <td>-0.030529</td>\n",
       "      <td>0.041953</td>\n",
       "    </tr>\n",
       "  </tbody>\n",
       "</table>\n",
       "</div>"
      ],
      "text/plain": [
       "                 coeff        se         t       p>t    CI_low   CI_high\n",
       "treat         0.105852  0.116125  0.911533  0.362265 -0.122064  0.333768\n",
       "treat_ave    -0.002193  0.002226 -0.985245  0.324776 -0.006562  0.002176\n",
       "ave           0.001139  0.002370  0.480601  0.630920 -0.003512  0.005790\n",
       "ave_educ_ave  0.000749  0.000353  2.122238  0.034098  0.000056  0.001442\n",
       "educ_ave      0.005712  0.018465  0.309336  0.757139 -0.030529  0.041953"
      ]
     },
     "execution_count": 47,
     "metadata": {},
     "output_type": "execute_result"
    }
   ],
   "source": [
    "X = [\"treat\", \"treat_ave\", \"ave\", \"ave_educ_ave\", \"educ_ave\"]\n",
    "result = mt.reg(df,\"EL_ln_tot_exp_notext\", X , fe_name = \"school_code\", cluster=\"hhid\").summary\n",
    "result\n",
    "#df_result = df_result.drop(index=controls)"
   ]
  },
  {
   "cell_type": "code",
   "execution_count": 38,
   "metadata": {},
   "outputs": [
    {
     "name": "stderr",
     "output_type": "stream",
     "text": [
      "C:\\Users\\thxkn\\anaconda3\\lib\\site-packages\\statsmodels\\regression\\linear_model.py:1687: RuntimeWarning: invalid value encountered in float_scalars\n",
      "  return 1 - self.ssr/self.uncentered_tss\n"
     ]
    }
   ],
   "source": [
    "def calc_vif(X):\n",
    "\n",
    "    # Calculating VIF\n",
    "    vif = pd.DataFrame()\n",
    "    vif[\"variables\"] = X.columns\n",
    "    vif[\"VIF\"] = [variance_inflation_factor(X.values, i) for i in range(X.shape[1])]\n",
    "\n",
    "    return(vif)\n",
    "\n",
    "#check multicollinearity\n",
    "df_colinear = df.drop(df.loc[df[\"ave_educ_ave\"].isnull() == True].index)\n",
    "#exog= X + controls\n",
    "multi = df_colinear.loc[:,reg_endo]\n",
    "vif = calc_vif(multi)\n",
    "\n"
   ]
  }
 ],
 "metadata": {
  "kernelspec": {
   "display_name": "Python 3",
   "language": "python",
   "name": "python3"
  },
  "language_info": {
   "codemirror_mode": {
    "name": "ipython",
    "version": 3
   },
   "file_extension": ".py",
   "mimetype": "text/x-python",
   "name": "python",
   "nbconvert_exporter": "python",
   "pygments_lexer": "ipython3",
   "version": "3.7.6"
  }
 },
 "nbformat": 4,
 "nbformat_minor": 4
}
